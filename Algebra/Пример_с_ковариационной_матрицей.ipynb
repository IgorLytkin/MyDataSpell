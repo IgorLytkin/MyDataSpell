{
  "nbformat": 4,
  "nbformat_minor": 0,
  "metadata": {
    "colab": {
      "name": "Пример с ковариационной матрицей.ipynb",
      "provenance": [],
      "collapsed_sections": []
    },
    "kernelspec": {
      "display_name": "Python 3",
      "language": "python",
      "name": "python3"
    },
    "language_info": {
      "codemirror_mode": {
        "name": "ipython",
        "version": 3
      },
      "file_extension": ".py",
      "mimetype": "text/x-python",
      "name": "python",
      "nbconvert_exporter": "python",
      "pygments_lexer": "ipython3",
      "version": "3.7.10"
    }
  },
  "cells": [
    {
      "cell_type": "code",
      "metadata": {
        "id": "TMU-vG5tL_53",
        "colab": {
          "base_uri": "https://localhost:8080/"
        },
        "outputId": "3923dda4-508f-49ce-cb2d-a688a62407be"
      },
      "source": [
        "import matplotlib.pyplot as plt\n",
        "import numpy as np\n",
        "np.set_printoptions(precision=2, suppress=True)\n",
        "\n",
        "\n",
        "x = np.random.uniform(-30, 30, 30)\n",
        "q = np.random.uniform(-30, 30, 30)\n",
        "y = np.random.uniform(-30, 30, 30) #0.1 * x + 0.1 * q \n",
        "\n",
        "\n",
        "A =np.array( [x]+[y]).T\n",
        "\n",
        "print(f'Матрица A:\\n{A}')"
      ],
      "execution_count": null,
      "outputs": [
        {
          "output_type": "stream",
          "name": "stdout",
          "text": [
            "Матрица A:\n",
            "[[ 22.23  25.47]\n",
            " [  4.92 -18.49]\n",
            " [  0.01  14.39]\n",
            " [-24.69  -8.88]\n",
            " [-10.82   9.81]\n",
            " [-11.39  23.08]\n",
            " [ 21.22 -26.76]\n",
            " [ -3.81  27.  ]\n",
            " [-15.49 -23.9 ]\n",
            " [ 23.12  -6.22]\n",
            " [-20.26 -10.23]\n",
            " [ 23.48 -20.5 ]\n",
            " [  7.22  14.38]\n",
            " [-18.25  14.76]\n",
            " [ 19.7   13.62]\n",
            " [-25.4   -4.42]\n",
            " [-23.83  -0.39]\n",
            " [ -7.41  -4.02]\n",
            " [-18.63  -0.81]\n",
            " [  6.72  28.33]\n",
            " [  2.01   9.66]\n",
            " [-14.91 -23.48]\n",
            " [ 20.2   -3.73]\n",
            " [-30.    22.4 ]\n",
            " [-12.86  26.05]\n",
            " [-24.72  -0.29]\n",
            " [ -8.57   2.92]\n",
            " [-15.88  -1.8 ]\n",
            " [ -0.82  28.78]\n",
            " [ -7.94  -9.3 ]]\n"
          ]
        }
      ]
    },
    {
      "cell_type": "markdown",
      "metadata": {
        "id": "xV2O0AxNL_6J"
      },
      "source": [
        "попытка1 - найти вектор методом МНК "
      ]
    },
    {
      "cell_type": "code",
      "metadata": {
        "id": "r6bbPthlL_6L"
      },
      "source": [
        "MNK=np.vstack([A.T[0], np.ones(len(A))]).T"
      ],
      "execution_count": null,
      "outputs": []
    },
    {
      "cell_type": "code",
      "metadata": {
        "id": "nOtegGG9L_6L",
        "scrolled": true,
        "outputId": "552362e1-9d89-4e6d-fdac-7888791a7f99"
      },
      "source": [
        "m, c = np.linalg.lstsq(MNK, A.T[1], rcond=None)[0]\n",
        "m, c"
      ],
      "execution_count": null,
      "outputs": [
        {
          "data": {
            "text/plain": [
              "(2.8893379262632344, -2.7188951056139303)"
            ]
          },
          "execution_count": 3,
          "metadata": {},
          "output_type": "execute_result"
        }
      ]
    },
    {
      "cell_type": "code",
      "metadata": {
        "id": "nDfZEsY2L_6M"
      },
      "source": [
        "U, s, V = np.linalg.svd(A)"
      ],
      "execution_count": null,
      "outputs": []
    },
    {
      "cell_type": "code",
      "metadata": {
        "id": "bYfocE7RL_6N"
      },
      "source": [
        "D = np.eye(2)*s"
      ],
      "execution_count": null,
      "outputs": []
    },
    {
      "cell_type": "code",
      "metadata": {
        "id": "4mNYlOLCL_6O",
        "outputId": "5e8f4ac4-9cd3-4c0a-b8d1-49c950afc4c6"
      },
      "source": [
        "print(f'Матрица D:\\n{D}')"
      ],
      "execution_count": null,
      "outputs": [
        {
          "name": "stdout",
          "output_type": "stream",
          "text": [
            "Матрица D:\n",
            "[[297.79   0.  ]\n",
            " [  0.    15.13]]\n"
          ]
        }
      ]
    },
    {
      "cell_type": "code",
      "metadata": {
        "id": "0_t_s9bGL_6O",
        "colab": {
          "base_uri": "https://localhost:8080/"
        },
        "outputId": "4bb068d6-916c-4978-f77a-610f3daa0c74"
      },
      "source": [
        "A_= A.T @ A\n",
        "w, v = np.linalg.eig(A_)\n",
        "print(f'Матрица A_:\\n{A_}')\n",
        "print(f'Собственные значения:\\n{w}')\n",
        "print(f'Собственные векторы:\\n{v}')\n",
        "\n",
        "U, s, V = np.linalg.svd(A_)\n",
        "D = np.eye(2)*s\n",
        "print(f'Собственные значения:\\n{s}')\n",
        "print(f'Матрица U:\\n{U}')\n",
        "print(f'Собственные вектор, найденный по первому собственному значению:\\n{U[0]}')\n",
        "print(f'Собственные вектор, найденный по второму собственному значению:\\n{U[1]}')\n",
        "print(f'Матрица V:\\n{V}')\n",
        "\n",
        "\n",
        "print(f'Матрица d:\\n{v[:,0]}')"
      ],
      "execution_count": null,
      "outputs": [
        {
          "output_type": "stream",
          "name": "stdout",
          "text": [
            "Матрица A_:\n",
            "[[8708.64 -585.03]\n",
            " [-585.03 8700.  ]]\n",
            "Собственные значения:\n",
            "[9289.36 8119.27]\n",
            "Собственные векторы:\n",
            "[[ 0.71  0.7 ]\n",
            " [-0.7   0.71]]\n",
            "Собственные значения:\n",
            "[9289.36 8119.27]\n",
            "Матрица U:\n",
            "[[-0.71  0.7 ]\n",
            " [ 0.7   0.71]]\n",
            "Собственные вектор, найденный по первому собственному значению:\n",
            "[-0.71  0.7 ]\n",
            "Собственные вектор, найденный по второму собственному значению:\n",
            "[0.7  0.71]\n",
            "Матрица V:\n",
            "[[-0.71  0.7 ]\n",
            " [ 0.7   0.71]]\n",
            "Матрица d:\n",
            "[ 0.71 -0.7 ]\n"
          ]
        }
      ]
    },
    {
      "cell_type": "markdown",
      "metadata": {
        "id": "ZxPLNQ2pL_6P"
      },
      "source": [
        "судя по всему не совсем удалось"
      ]
    },
    {
      "cell_type": "code",
      "metadata": {
        "id": "4LxOvSiwL_6Q",
        "colab": {
          "base_uri": "https://localhost:8080/",
          "height": 497
        },
        "outputId": "20f2a495-0f58-4f9c-b17e-a71d1881025a"
      },
      "source": [
        "import matplotlib.pyplot as plt\n",
        "\n",
        "plt.figure(figsize=(8,8))\n",
        "plt.xlim([-33, 33])\n",
        "plt.ylim([-33, 33])\n",
        "plt.yticks(np.arange(-30, 31, 3))\n",
        "plt.xticks(np.arange(-30, 31, 3))\n",
        "plt.gca().set_aspect('equal', adjustable='box')\n",
        "\n",
        "\n",
        "plt.scatter(A.T[0], A.T[1], c='black')\n",
        "\n",
        "\n",
        "origin = [0], [0] # origin point\n",
        "plt.quiver([0],[0], U[:1][0][0], U[:1][0][1], color=['g'], scale=3)\n",
        "plt.quiver([0],[0], U[1:2][0][0], U[1:2][0][1], color=['r'], scale=3)\n",
        "plt.xlabel(\"x\")\n",
        "plt.ylabel(\"y\")\n",
        "\n",
        "plt.show()"
      ],
      "execution_count": null,
      "outputs": [
        {
          "output_type": "display_data",
          "data": {
            "image/png": "[encoded data removed]",
            "text/plain": [
              "<Figure size 576x576 with 1 Axes>"
            ]
          },
          "metadata": {
            "needs_background": "light"
          }
        }
      ]
    },
    {
      "cell_type": "code",
      "metadata": {
        "id": "u8igst4HL_6R"
      },
      "source": [
        ""
      ],
      "execution_count": null,
      "outputs": []
    },
    {
      "cell_type": "code",
      "metadata": {
        "id": "FakQB-cYL_6R"
      },
      "source": [
        ""
      ],
      "execution_count": null,
      "outputs": []
    },
    {
      "cell_type": "code",
      "metadata": {
        "id": "37tukYOyL_6S"
      },
      "source": [
        ""
      ],
      "execution_count": null,
      "outputs": []
    }
  ]
}